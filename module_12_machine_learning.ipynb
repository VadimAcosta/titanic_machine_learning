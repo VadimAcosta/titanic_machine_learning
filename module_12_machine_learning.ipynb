{
 "cells": [
  {
   "cell_type": "markdown",
   "id": "0d0e70be-0db8-4bfb-b966-e5e1e0c8aaf2",
   "metadata": {
    "tags": []
   },
   "source": [
    "# Module 12: Machine Learning with Python"
   ]
  },
  {
   "cell_type": "markdown",
   "id": "38717118-ec0b-4c0d-b2b9-14f39642f897",
   "metadata": {
    "tags": []
   },
   "source": [
    "Our goal will be to create a machine learning algorithm that can tell who lived and who died."
   ]
  },
  {
   "cell_type": "markdown",
   "id": "22c5cb29-1d7a-4d93-9824-885c93588d3a",
   "metadata": {},
   "source": [
    "[The kaggle contest and dataset](https://www.kaggle.com/competitions/titanic/data)"
   ]
  },
  {
   "cell_type": "code",
   "execution_count": 1,
   "id": "2a679278-9288-441a-aac5-356dafb671f1",
   "metadata": {},
   "outputs": [],
   "source": [
    "# linear algebra\n",
    "import numpy as np \n",
    "\n",
    "# data processing\n",
    "import pandas as pd \n",
    "\n",
    "# data visualization\n",
    "import seaborn as sns\n",
    "from matplotlib import pyplot as plt\n",
    "from matplotlib import style\n",
    "\n",
    "# Algorithms\n",
    "from sklearn.metrics import confusion_matrix\n",
    "from sklearn import linear_model\n",
    "from sklearn.linear_model import LogisticRegression\n",
    "from sklearn.ensemble import RandomForestClassifier\n",
    "from sklearn.tree import DecisionTreeClassifier\n",
    "from sklearn.svm import SVC, LinearSVC"
   ]
  },
  {
   "cell_type": "markdown",
   "id": "cba98904-c80f-478a-88a1-dcb8b7bc7c9a",
   "metadata": {},
   "source": [
    "If you want to see all rows when calling a dataframe use the code below:"
   ]
  },
  {
   "cell_type": "code",
   "execution_count": 2,
   "id": "71f07b00-5925-44be-89d4-9b8cbdd1538e",
   "metadata": {},
   "outputs": [],
   "source": [
    "pd.set_option('display.max_rows', None)"
   ]
  },
  {
   "cell_type": "code",
   "execution_count": 3,
   "id": "bb678553-ea4d-4bc3-bc83-0a8efd980721",
   "metadata": {},
   "outputs": [],
   "source": [
    "train = pd.read_csv('data/train.csv')\n",
    "test = pd.read_csv('data/test.csv')"
   ]
  },
  {
   "cell_type": "code",
   "execution_count": null,
   "id": "4078d6f5-ce83-45e1-a3ce-9b975ec60ac8",
   "metadata": {},
   "outputs": [],
   "source": [
    "train.head(1)"
   ]
  },
  {
   "cell_type": "markdown",
   "id": "ba1ce1b6-71f5-422f-a368-af1e88344ab2",
   "metadata": {},
   "source": [
    "**Pclass:** A proxy for socio-economic status (SES)  \n",
    "1st = Upper   \n",
    "2nd = Middle  \n",
    "3rd = Lower  \n",
    "\n",
    "**Age:** Age is fractional if less than 1. If the age is estimated, is it in the form of xx.5  \n",
    "\n",
    "**SibSp:** The dataset defines family relations in this way...  \n",
    "Sibling = brother, sister, stepbrother, stepsister  \n",
    "Spouse = husband, wife (mistresses and fiancés were ignored)  \n",
    "\n",
    "**Parch:** The dataset defines family relations in this way...  \n",
    "Parent = mother, father  \n",
    "Child = daughter, son, stepdaughter, stepson  \n",
    "Some children travelled only with a nanny, therefore parch=0 for them.  \n",
    "\n",
    "**Embarked** The city from which the passengers embarked.  \n",
    "C = Cherbourg,   \n",
    "Q = Queenstown,   \n",
    "S = Southampton"
   ]
  },
  {
   "cell_type": "code",
   "execution_count": null,
   "id": "40785020-fc4d-499d-ba01-c03f47cf6b9d",
   "metadata": {},
   "outputs": [],
   "source": [
    "sns.set_style('ticks')\n",
    "sns.set_context('talk')"
   ]
  },
  {
   "cell_type": "code",
   "execution_count": null,
   "id": "47da789b-df57-46be-8d26-8de643a9c4aa",
   "metadata": {},
   "outputs": [],
   "source": [
    "# To set size for all visualizations use the following:\n",
    "\n",
    "sns.set(rc={'figure.figsize': (7,7)})"
   ]
  },
  {
   "cell_type": "code",
   "execution_count": null,
   "id": "e7c2c618-f7bc-4f0a-9e5d-daeb874287fa",
   "metadata": {},
   "outputs": [],
   "source": [
    "# To set size for a single visualization use the following:\n",
    "# plt.figure(figsize=(7,7))\n",
    "\n",
    "sns.countplot(x='Survived', hue = 'Pclass', data=train)"
   ]
  },
  {
   "cell_type": "code",
   "execution_count": null,
   "id": "74484de7-4db8-4248-98e7-db69bf66464a",
   "metadata": {},
   "outputs": [],
   "source": [
    "sns.histplot(train['Age'].dropna(), kde=False, bins=16)"
   ]
  },
  {
   "cell_type": "code",
   "execution_count": null,
   "id": "0f8b2800-6b47-4b4e-aaa3-fa44292ad1f2",
   "metadata": {},
   "outputs": [],
   "source": [
    "#train['Fare'].plot.hist(bins=40, figsize=(10,4)) \n",
    "sns.histplot(train['Fare'].dropna(), kde=False, bins= 50)"
   ]
  },
  {
   "cell_type": "code",
   "execution_count": null,
   "id": "283c7ed6-7208-41f2-9d90-1bac1a9904aa",
   "metadata": {},
   "outputs": [],
   "source": [
    "sns.boxplot(x='Pclass', y='Age', data=train)"
   ]
  },
  {
   "cell_type": "markdown",
   "id": "5ba125c8-7a50-4787-99bb-51625bd20952",
   "metadata": {},
   "source": [
    "# lets make heat map"
   ]
  },
  {
   "cell_type": "markdown",
   "id": "b98d7c7f-1723-4eff-a0a5-1b759fe23428",
   "metadata": {},
   "source": [
    "1. Create correlation matrix"
   ]
  },
  {
   "cell_type": "code",
   "execution_count": null,
   "id": "e6fd4b38-ddd1-45e3-86d9-8be949cd2495",
   "metadata": {},
   "outputs": [],
   "source": [
    "correlation_matrix = train.corr()\n",
    "correlation_matrix"
   ]
  },
  {
   "cell_type": "markdown",
   "id": "a41e8ea1-481d-4d91-b6e6-0c2c1c572144",
   "metadata": {},
   "source": [
    "2. Create heatmap"
   ]
  },
  {
   "cell_type": "code",
   "execution_count": null,
   "id": "a30330b6-351b-46ec-b1e6-bec3ab74b83d",
   "metadata": {},
   "outputs": [],
   "source": [
    "sns.heatmap(correlation_matrix, cmap = \"Blues\")"
   ]
  },
  {
   "cell_type": "markdown",
   "id": "73bfe4f4-c1bc-43fa-b3e5-bcdf2ff23304",
   "metadata": {},
   "source": [
    "3. Do both in one line"
   ]
  },
  {
   "cell_type": "code",
   "execution_count": null,
   "id": "7045e3e4-c13c-44cc-9f98-c57ce042c1a8",
   "metadata": {},
   "outputs": [],
   "source": [
    "sns.heatmap(train.corr(), cmap =\"RdYlBu\", annot = True, center = 0) \n",
    "# notice the selection of the center at zero"
   ]
  },
  {
   "cell_type": "markdown",
   "id": "d42ced0a-9d53-4a74-a5d7-082e8da91c86",
   "metadata": {},
   "source": [
    "- Consider how every column correlates with the **\"Survived\"** column.\n",
    "- Contemplate both the positive and the negative correlations\n",
    "- Drop insignificant features"
   ]
  },
  {
   "cell_type": "markdown",
   "id": "6f0d5d12-e839-4406-8185-d9ef61f901fb",
   "metadata": {},
   "source": [
    "#### Drop unwanted columns"
   ]
  },
  {
   "cell_type": "code",
   "execution_count": 4,
   "id": "15a34316-c5cc-4bc3-b4f6-7a21a7855cbf",
   "metadata": {},
   "outputs": [],
   "source": [
    "train = train.drop(['Name','SibSp','Parch','Ticket', 'Cabin'], axis=1)\n",
    "test = test.drop(['Name','SibSp','Parch','Ticket', 'Cabin'], axis=1)"
   ]
  },
  {
   "cell_type": "markdown",
   "id": "2bd52c1e-e7a4-4b50-823b-580dd150c361",
   "metadata": {},
   "source": [
    "#### Convert 'Sex' into numeric"
   ]
  },
  {
   "cell_type": "code",
   "execution_count": 5,
   "id": "3a599b0d-c134-480e-809c-e7e40e088a6d",
   "metadata": {},
   "outputs": [
    {
     "name": "stdout",
     "output_type": "stream",
     "text": [
      "<class 'pandas.core.frame.DataFrame'>\n",
      "RangeIndex: 891 entries, 0 to 890\n",
      "Data columns (total 7 columns):\n",
      " #   Column       Non-Null Count  Dtype  \n",
      "---  ------       --------------  -----  \n",
      " 0   PassengerId  891 non-null    int64  \n",
      " 1   Survived     891 non-null    int64  \n",
      " 2   Pclass       891 non-null    int64  \n",
      " 3   Sex          891 non-null    object \n",
      " 4   Age          714 non-null    float64\n",
      " 5   Fare         891 non-null    float64\n",
      " 6   Embarked     889 non-null    object \n",
      "dtypes: float64(2), int64(3), object(2)\n",
      "memory usage: 48.9+ KB\n"
     ]
    }
   ],
   "source": [
    "train.info()"
   ]
  },
  {
   "cell_type": "markdown",
   "id": "c1af0122-2cd7-415f-be07-155fb775c8ee",
   "metadata": {},
   "source": [
    "#### Drop Nulls"
   ]
  },
  {
   "cell_type": "code",
   "execution_count": 7,
   "id": "21b0c612-899f-41b3-b43a-dfd7fda5bdc4",
   "metadata": {},
   "outputs": [],
   "source": [
    "train = train.dropna()"
   ]
  },
  {
   "cell_type": "code",
   "execution_count": 8,
   "id": "d4fcf3a4-3b73-49b9-b292-7d77e7e239a3",
   "metadata": {},
   "outputs": [
    {
     "name": "stdout",
     "output_type": "stream",
     "text": [
      "<class 'pandas.core.frame.DataFrame'>\n",
      "Int64Index: 712 entries, 0 to 890\n",
      "Data columns (total 7 columns):\n",
      " #   Column       Non-Null Count  Dtype  \n",
      "---  ------       --------------  -----  \n",
      " 0   PassengerId  712 non-null    int64  \n",
      " 1   Survived     712 non-null    int64  \n",
      " 2   Pclass       712 non-null    int64  \n",
      " 3   Sex          712 non-null    object \n",
      " 4   Age          712 non-null    float64\n",
      " 5   Fare         712 non-null    float64\n",
      " 6   Embarked     712 non-null    object \n",
      "dtypes: float64(2), int64(3), object(2)\n",
      "memory usage: 44.5+ KB\n"
     ]
    }
   ],
   "source": [
    "train.info()"
   ]
  },
  {
   "cell_type": "code",
   "execution_count": 9,
   "id": "a404b732-4801-4040-b401-efe8cb87fa3d",
   "metadata": {},
   "outputs": [],
   "source": [
    "test = test.dropna()"
   ]
  },
  {
   "cell_type": "code",
   "execution_count": 10,
   "id": "17c5221a-c87f-4fa7-b925-eeb160f38dc8",
   "metadata": {},
   "outputs": [
    {
     "name": "stdout",
     "output_type": "stream",
     "text": [
      "<class 'pandas.core.frame.DataFrame'>\n",
      "Int64Index: 331 entries, 0 to 415\n",
      "Data columns (total 6 columns):\n",
      " #   Column       Non-Null Count  Dtype  \n",
      "---  ------       --------------  -----  \n",
      " 0   PassengerId  331 non-null    int64  \n",
      " 1   Pclass       331 non-null    int64  \n",
      " 2   Sex          331 non-null    object \n",
      " 3   Age          331 non-null    float64\n",
      " 4   Fare         331 non-null    float64\n",
      " 5   Embarked     331 non-null    object \n",
      "dtypes: float64(2), int64(2), object(2)\n",
      "memory usage: 18.1+ KB\n"
     ]
    }
   ],
   "source": [
    "test.info()"
   ]
  },
  {
   "cell_type": "markdown",
   "id": "5c8eb242-bb94-4c4a-9c25-b83f79e26736",
   "metadata": {},
   "source": [
    "#### Convert Sex to Numeric"
   ]
  },
  {
   "cell_type": "code",
   "execution_count": 11,
   "id": "a328b249-5ee1-4ef1-883d-c1af8a5d2583",
   "metadata": {},
   "outputs": [],
   "source": [
    "genders = {\"female\": 0, \"male\": 1}\n",
    "data = [train, test]\n",
    "\n",
    "for dataset in data:\n",
    "    dataset['Sex'] = dataset['Sex'].map(genders)"
   ]
  },
  {
   "cell_type": "markdown",
   "id": "31f081b5-1f8f-402d-aa60-7b33990f2dc3",
   "metadata": {},
   "source": [
    "#### Convert Embaked into numeric"
   ]
  },
  {
   "cell_type": "code",
   "execution_count": 12,
   "id": "af47283d-b7ff-4de7-9f1c-9f559f0672ef",
   "metadata": {},
   "outputs": [],
   "source": [
    "ports = {\"S\": 0, \"C\": 1, \"Q\": 2}\n",
    "data = [train, test]\n",
    "\n",
    "for dataset in data:\n",
    "    dataset['Embarked'] = dataset['Embarked'].map(ports)"
   ]
  },
  {
   "cell_type": "code",
   "execution_count": null,
   "id": "e4643a9f-00ad-4323-8735-2cf56e10e2d5",
   "metadata": {},
   "outputs": [],
   "source": [
    "train.head(1)"
   ]
  },
  {
   "cell_type": "code",
   "execution_count": null,
   "id": "082dda1e-94db-4e9e-9e17-0069d44e919d",
   "metadata": {},
   "outputs": [],
   "source": [
    "train.head()"
   ]
  },
  {
   "cell_type": "markdown",
   "id": "3ae6db45-a46f-4dd7-a591-f3c0b8b10f6e",
   "metadata": {},
   "source": [
    "# Building Machine Learning Models"
   ]
  },
  {
   "cell_type": "markdown",
   "id": "ada6c8b8-835f-4ed6-a92a-96a2ac36d0a0",
   "metadata": {},
   "source": [
    "The dataset does not provide labels for their testing-set, we need to use the predictions on the training set to compare the algorithms with each other. Later on, we will use cross validation."
   ]
  },
  {
   "cell_type": "code",
   "execution_count": 13,
   "id": "2ff91a5a-5160-41e3-a8f5-07a4ce87c7da",
   "metadata": {},
   "outputs": [],
   "source": [
    "X_train = train.drop([\"Survived\",\"PassengerId\"], axis=1)\n",
    "Y_train = train[\"Survived\"]\n",
    "X_test  = test.drop(\"PassengerId\", axis=1)#.copy()"
   ]
  },
  {
   "cell_type": "code",
   "execution_count": 14,
   "id": "de71eda0-ebec-44d5-b6e0-94d6553cbb6d",
   "metadata": {},
   "outputs": [
    {
     "name": "stdout",
     "output_type": "stream",
     "text": [
      "<class 'pandas.core.frame.DataFrame'>\n",
      "Int64Index: 712 entries, 0 to 890\n",
      "Data columns (total 5 columns):\n",
      " #   Column    Non-Null Count  Dtype  \n",
      "---  ------    --------------  -----  \n",
      " 0   Pclass    712 non-null    int64  \n",
      " 1   Sex       712 non-null    int64  \n",
      " 2   Age       712 non-null    float64\n",
      " 3   Fare      712 non-null    float64\n",
      " 4   Embarked  712 non-null    int64  \n",
      "dtypes: float64(2), int64(3)\n",
      "memory usage: 33.4 KB\n"
     ]
    }
   ],
   "source": [
    "X_train.info()"
   ]
  },
  {
   "cell_type": "code",
   "execution_count": 15,
   "id": "a31df39d-e9d3-4219-bae3-6fae33eb8357",
   "metadata": {},
   "outputs": [
    {
     "name": "stdout",
     "output_type": "stream",
     "text": [
      "<class 'pandas.core.frame.DataFrame'>\n",
      "Int64Index: 331 entries, 0 to 415\n",
      "Data columns (total 5 columns):\n",
      " #   Column    Non-Null Count  Dtype  \n",
      "---  ------    --------------  -----  \n",
      " 0   Pclass    331 non-null    int64  \n",
      " 1   Sex       331 non-null    int64  \n",
      " 2   Age       331 non-null    float64\n",
      " 3   Fare      331 non-null    float64\n",
      " 4   Embarked  331 non-null    int64  \n",
      "dtypes: float64(2), int64(3)\n",
      "memory usage: 15.5 KB\n"
     ]
    }
   ],
   "source": [
    "X_test.info()"
   ]
  },
  {
   "cell_type": "markdown",
   "id": "1dae6986-7f32-4ccc-beae-9fe8239cb634",
   "metadata": {},
   "source": [
    "# Logistic Regression:"
   ]
  },
  {
   "cell_type": "markdown",
   "id": "a8bd67cd-3fc7-4aec-af18-cabb1d8eb0ab",
   "metadata": {},
   "source": [
    "#### Creating the Model"
   ]
  },
  {
   "cell_type": "code",
   "execution_count": 16,
   "id": "0f9ecb89-4118-49e4-bb92-8ddf1c89dcd9",
   "metadata": {},
   "outputs": [
    {
     "data": {
      "text/plain": [
       "79.49"
      ]
     },
     "execution_count": 16,
     "metadata": {},
     "output_type": "execute_result"
    }
   ],
   "source": [
    "#Alias Method and Select Number of Max Iterations\n",
    "\n",
    "lr = LogisticRegression(max_iter=1000)\n",
    "\n",
    "# Fit / Train the model on your training data\n",
    "lr.fit(X_train, Y_train)\n",
    "\n",
    "# Evaluate the model\n",
    "lr.score(X_train, Y_train)\n",
    "lr_score = round(lr.score(X_train, Y_train) * 100, 2)\n",
    "lr_score"
   ]
  },
  {
   "cell_type": "markdown",
   "id": "a0eb3189-0ff5-4f28-9cf9-03c859daed79",
   "metadata": {},
   "source": [
    "#### Using the Model"
   ]
  },
  {
   "cell_type": "code",
   "execution_count": 17,
   "id": "d0d78a4d-c096-429d-b4d9-49c712c3c892",
   "metadata": {},
   "outputs": [
    {
     "data": {
      "text/plain": [
       "array([0, 1, 1, 1, 0, 0, 0, 1, 1, 1, 1, 0, 0, 1, 1, 0, 0, 0, 0, 1, 1, 1,\n",
       "       0, 1, 0, 0, 1, 0, 0, 1, 1, 0, 1, 1, 1, 1, 0, 0, 1, 1, 0, 1, 0, 1,\n",
       "       0, 0, 0, 0, 1, 0, 1, 0, 0, 1, 0, 0, 0, 0, 0, 1, 0, 0, 1, 1, 0, 0,\n",
       "       1, 0, 0, 0, 0, 0, 0, 0, 1, 1, 0, 1, 1, 0, 0, 0, 1, 0, 0, 1, 0, 1,\n",
       "       1, 0, 0, 0, 1, 1, 0, 0, 1, 0, 0, 0, 0, 0, 0, 0, 1, 0, 0, 1, 0, 0,\n",
       "       1, 1, 1, 0, 0, 0, 0, 1, 0, 0, 0, 1, 0, 0, 0, 1, 0, 0, 1, 0, 0, 0,\n",
       "       0, 0, 0, 0, 0, 1, 0, 0, 0, 1, 0, 0, 0, 0, 1, 0, 0, 0, 1, 0, 1, 0,\n",
       "       1, 1, 0, 1, 0, 0, 0, 0, 1, 0, 0, 1, 0, 0, 1, 0, 0, 1, 1, 0, 1, 0,\n",
       "       0, 0, 0, 0, 0, 0, 0, 0, 1, 0, 0, 1, 0, 0, 1, 0, 0, 0, 0, 0, 0, 1,\n",
       "       1, 0, 0, 1, 0, 0, 0, 1, 1, 1, 1, 0, 0, 0, 0, 0, 0, 1, 1, 0, 1, 0,\n",
       "       1, 0, 0, 0, 0, 0, 0, 0, 0, 0, 0, 0, 1, 1, 1, 0, 1, 0, 0, 1, 1, 0,\n",
       "       1, 1, 0, 1, 1, 1, 1, 0, 0, 1, 1, 0, 1, 1, 0, 0, 1, 1, 1, 0, 1, 0,\n",
       "       1, 0, 0, 0, 1, 1, 0, 0, 0, 1, 0, 0, 0, 1, 1, 0, 0, 0, 0, 0, 0, 1,\n",
       "       1, 0, 0, 0, 0, 0, 1, 1, 1, 0, 0, 1, 1, 1, 1, 0, 0, 1, 1, 0, 1, 0,\n",
       "       0, 1, 1, 0, 0, 0, 1, 1, 0, 0, 0, 0, 1, 0, 0, 1, 0, 1, 0, 0, 0, 0,\n",
       "       1, 0, 1, 1, 0, 1, 0, 0, 1, 0, 1, 1, 0, 1, 1, 0, 0, 1, 1, 1, 0, 0,\n",
       "       1, 0, 0, 1, 1, 1, 0, 1, 0, 0, 1, 0, 0, 0, 1, 0, 0, 0, 0, 0, 0, 1,\n",
       "       0, 1, 1, 1, 0, 0, 0, 1, 0, 0, 0, 1, 1, 0, 0, 0, 0, 0, 0, 0, 1, 1,\n",
       "       0, 0, 1, 0, 1, 1, 1, 0, 0, 0, 0, 1, 0, 0, 1, 1, 0, 1, 0, 1, 0, 1,\n",
       "       0, 0, 1, 0, 1, 1, 0, 1, 1, 1, 1, 1, 0, 0, 0, 1, 0, 0, 1, 0, 0, 1,\n",
       "       0, 1, 1, 0, 0, 0, 0, 0, 1, 0, 0, 1, 0, 0, 0, 1, 1, 0, 1, 1, 0, 0,\n",
       "       1, 0, 0, 0, 0, 1, 0, 0, 0, 0, 0, 1, 0, 1, 0, 0, 1, 1, 1, 0, 0, 1,\n",
       "       0, 1, 1, 0, 0, 0, 0, 0, 0, 0, 0, 1, 0, 0, 0, 1, 1, 1, 0, 0, 0, 0,\n",
       "       1, 1, 1, 0, 0, 0, 1, 1, 0, 1, 0, 1, 0, 0, 0, 0, 0, 0, 0, 0, 0, 0,\n",
       "       1, 1, 0, 0, 0, 0, 1, 0, 1, 1, 0, 0, 0, 0, 0, 0, 0, 1, 1, 1, 0, 0,\n",
       "       0, 0, 0, 0, 1, 0, 1, 0, 0, 0, 1, 0, 1, 1, 0, 0, 0, 0, 1, 1, 0, 1,\n",
       "       0, 0, 0, 1, 0, 1, 0, 1, 1, 0, 0, 0, 0, 0, 1, 0, 1, 0, 0, 0, 0, 1,\n",
       "       1, 0, 1, 0, 0, 0, 1, 0, 0, 0, 0, 1, 0, 0, 1, 0, 1, 1, 0, 0, 0, 1,\n",
       "       1, 0, 1, 1, 1, 1, 1, 0, 0, 1, 0, 0, 0, 0, 0, 0, 1, 0, 0, 1, 0, 1,\n",
       "       1, 0, 0, 0, 0, 1, 0, 1, 0, 0, 0, 1, 0, 1, 0, 0, 0, 1, 0, 0, 1, 0,\n",
       "       1, 1, 0, 0, 0, 1, 0, 0, 0, 0, 1, 0, 0, 0, 0, 0, 0, 0, 1, 1, 1, 1,\n",
       "       1, 0, 1, 0, 0, 1, 0, 1, 1, 1, 0, 0, 1, 0, 0, 1, 1, 0, 0, 1, 1, 0,\n",
       "       1, 0, 0, 0, 0, 1, 1, 0])"
      ]
     },
     "execution_count": 17,
     "metadata": {},
     "output_type": "execute_result"
    }
   ],
   "source": [
    "#Predict values in known column\n",
    "lr.predict(X_train)"
   ]
  },
  {
   "cell_type": "code",
   "execution_count": 18,
   "id": "bbec1df5-24ce-4550-9859-1f3a94617c64",
   "metadata": {},
   "outputs": [
    {
     "data": {
      "text/plain": [
       "array([[359,  81],\n",
       "       [ 65, 207]])"
      ]
     },
     "execution_count": 18,
     "metadata": {},
     "output_type": "execute_result"
    }
   ],
   "source": [
    "#Compare predicted values to known values\n",
    "\n",
    "lrcm = confusion_matrix(lr.predict(X_train),Y_train)\n",
    "lrcm"
   ]
  },
  {
   "cell_type": "code",
   "execution_count": 22,
   "id": "b6c310a8-f558-4db3-9e29-ddbbd538cae2",
   "metadata": {},
   "outputs": [],
   "source": [
    "#lr.predict(X_test)"
   ]
  },
  {
   "cell_type": "markdown",
   "id": "46e23c4e-12b6-4927-9ca5-3530aa4e2fb5",
   "metadata": {},
   "source": [
    "#### Use the model in new contexts, Jack and Rose"
   ]
  },
  {
   "cell_type": "code",
   "execution_count": 23,
   "id": "9d442cfa-2e3b-4c32-ae35-77a0cbd6953b",
   "metadata": {
    "tags": []
   },
   "outputs": [
    {
     "data": {
      "text/html": [
       "<div>\n",
       "<style scoped>\n",
       "    .dataframe tbody tr th:only-of-type {\n",
       "        vertical-align: middle;\n",
       "    }\n",
       "\n",
       "    .dataframe tbody tr th {\n",
       "        vertical-align: top;\n",
       "    }\n",
       "\n",
       "    .dataframe thead th {\n",
       "        text-align: right;\n",
       "    }\n",
       "</style>\n",
       "<table border=\"1\" class=\"dataframe\">\n",
       "  <thead>\n",
       "    <tr style=\"text-align: right;\">\n",
       "      <th></th>\n",
       "      <th>Pclass</th>\n",
       "      <th>Sex</th>\n",
       "      <th>Age</th>\n",
       "      <th>Fare</th>\n",
       "      <th>Embarked</th>\n",
       "    </tr>\n",
       "  </thead>\n",
       "  <tbody>\n",
       "    <tr>\n",
       "      <th>0</th>\n",
       "      <td>3</td>\n",
       "      <td>1</td>\n",
       "      <td>22</td>\n",
       "      <td>7</td>\n",
       "      <td>1</td>\n",
       "    </tr>\n",
       "    <tr>\n",
       "      <th>1</th>\n",
       "      <td>1</td>\n",
       "      <td>0</td>\n",
       "      <td>17</td>\n",
       "      <td>70</td>\n",
       "      <td>1</td>\n",
       "    </tr>\n",
       "  </tbody>\n",
       "</table>\n",
       "</div>"
      ],
      "text/plain": [
       "   Pclass  Sex  Age  Fare  Embarked\n",
       "0       3    1   22     7         1\n",
       "1       1    0   17    70         1"
      ]
     },
     "execution_count": 23,
     "metadata": {},
     "output_type": "execute_result"
    }
   ],
   "source": [
    "# Create a dictionary containing the data you need, with correct number and order of columns\n",
    "\n",
    "passengers = {'Pclass': [3, 1], 'Sex': [1, 0],'Age': [22, 17], 'Fare':[7,70], 'Embarked': [1,1]}\n",
    "\n",
    "# Turn that dictionary into a dataframe\n",
    "jackandrose = pd.DataFrame.from_dict(passengers)\n",
    "\n",
    "# Call the dataframe\n",
    "jackandrose"
   ]
  },
  {
   "cell_type": "code",
   "execution_count": 24,
   "id": "e09cb7b8-3ffc-449e-b4ca-2e3b5e601a61",
   "metadata": {},
   "outputs": [
    {
     "name": "stdout",
     "output_type": "stream",
     "text": [
      "[0 1]\n"
     ]
    }
   ],
   "source": [
    "# Use the model on a dataframe\n",
    "\n",
    "lr_survival_prediction = lr.predict(jackandrose)\n",
    "print (lr_survival_prediction)"
   ]
  },
  {
   "cell_type": "markdown",
   "id": "2827d019-cff8-46fe-8a81-27ad29682559",
   "metadata": {},
   "source": [
    "# Linear Support Vector Machine:"
   ]
  },
  {
   "cell_type": "code",
   "execution_count": 25,
   "id": "9f937532-22f4-4fa1-ba33-a2f35615e82d",
   "metadata": {},
   "outputs": [
    {
     "name": "stderr",
     "output_type": "stream",
     "text": [
      "/Users/vadimacosta/opt/anaconda3/lib/python3.9/site-packages/sklearn/svm/_base.py:985: ConvergenceWarning: Liblinear failed to converge, increase the number of iterations.\n",
      "  warnings.warn(\"Liblinear failed to converge, increase \"\n"
     ]
    },
    {
     "data": {
      "text/plain": [
       "0.7949438202247191"
      ]
     },
     "execution_count": 25,
     "metadata": {},
     "output_type": "execute_result"
    }
   ],
   "source": [
    "# Alias Method and Select Number of Max Iterations\n",
    "lsvc = LinearSVC(max_iter=1000000)\n",
    "\n",
    "# Fit / Train the model on your training data\n",
    "lsvc.fit(X_train, Y_train)\n",
    "\n",
    "# Evaluate the model\n",
    "lsvc.score(X_train, Y_train)"
   ]
  },
  {
   "cell_type": "code",
   "execution_count": 26,
   "id": "8da2157a-b62f-48ff-946d-1170ff587112",
   "metadata": {},
   "outputs": [
    {
     "data": {
      "text/plain": [
       "79.49"
      ]
     },
     "execution_count": 26,
     "metadata": {},
     "output_type": "execute_result"
    }
   ],
   "source": [
    "lsvc_score = round(lsvc.score(X_train, Y_train) * 100, 2)\n",
    "lsvc_score"
   ]
  },
  {
   "cell_type": "code",
   "execution_count": 27,
   "id": "02d0215c-5b59-49e3-a126-aa0ee25bc9a2",
   "metadata": {},
   "outputs": [
    {
     "data": {
      "text/plain": [
       "array([0, 1, 1, 1, 0, 0, 0, 1, 1, 1, 1, 0, 0, 1, 1, 0, 1, 0, 0, 1, 1, 1,\n",
       "       0, 0, 0, 0, 0, 0, 0, 1, 1, 0, 1, 1, 1, 1, 0, 0, 1, 1, 0, 1, 0, 1,\n",
       "       0, 0, 0, 0, 1, 0, 1, 0, 0, 1, 0, 0, 0, 0, 0, 1, 0, 0, 0, 1, 1, 0,\n",
       "       1, 0, 0, 0, 0, 0, 0, 0, 1, 1, 0, 1, 1, 0, 0, 0, 1, 0, 0, 1, 0, 1,\n",
       "       1, 0, 0, 0, 0, 1, 0, 0, 1, 0, 0, 0, 0, 0, 0, 0, 1, 0, 0, 1, 0, 0,\n",
       "       1, 1, 1, 0, 0, 0, 0, 1, 0, 0, 0, 1, 0, 0, 0, 1, 0, 0, 1, 0, 0, 0,\n",
       "       0, 0, 0, 0, 0, 1, 0, 0, 0, 1, 0, 0, 0, 0, 1, 0, 0, 0, 1, 0, 1, 0,\n",
       "       1, 1, 0, 1, 0, 0, 0, 0, 1, 0, 0, 1, 0, 0, 1, 0, 0, 1, 1, 0, 1, 0,\n",
       "       0, 0, 0, 0, 0, 0, 0, 0, 1, 0, 0, 1, 0, 0, 1, 0, 0, 0, 0, 0, 0, 1,\n",
       "       1, 0, 0, 1, 0, 0, 0, 1, 1, 0, 1, 0, 0, 0, 0, 0, 0, 1, 1, 0, 1, 0,\n",
       "       1, 0, 0, 1, 0, 0, 0, 0, 0, 0, 0, 0, 1, 1, 1, 0, 1, 0, 0, 1, 1, 0,\n",
       "       1, 1, 0, 1, 1, 1, 1, 0, 0, 1, 1, 0, 1, 1, 0, 0, 1, 1, 1, 0, 1, 1,\n",
       "       1, 0, 0, 0, 0, 1, 0, 0, 0, 1, 0, 0, 0, 1, 1, 0, 0, 0, 0, 0, 0, 1,\n",
       "       1, 0, 0, 0, 0, 0, 1, 1, 1, 0, 0, 0, 1, 1, 0, 0, 0, 1, 1, 0, 1, 0,\n",
       "       0, 1, 1, 0, 0, 0, 1, 1, 0, 1, 0, 0, 1, 0, 0, 1, 0, 1, 0, 0, 0, 0,\n",
       "       1, 0, 1, 1, 0, 1, 0, 0, 1, 0, 1, 1, 0, 1, 1, 0, 0, 1, 1, 1, 0, 0,\n",
       "       1, 0, 0, 1, 1, 1, 0, 1, 0, 0, 1, 0, 0, 0, 1, 0, 0, 0, 0, 0, 0, 1,\n",
       "       0, 1, 1, 1, 0, 0, 0, 1, 0, 0, 0, 0, 1, 0, 0, 0, 0, 0, 0, 0, 1, 1,\n",
       "       0, 0, 1, 1, 1, 1, 1, 0, 0, 0, 0, 1, 0, 0, 1, 1, 0, 1, 0, 1, 0, 1,\n",
       "       0, 0, 1, 0, 1, 1, 0, 1, 1, 1, 1, 1, 0, 0, 0, 1, 0, 0, 1, 0, 0, 1,\n",
       "       0, 1, 1, 0, 0, 0, 0, 0, 1, 0, 0, 1, 0, 0, 0, 1, 1, 0, 1, 1, 0, 0,\n",
       "       1, 0, 0, 0, 0, 1, 0, 0, 0, 0, 0, 1, 0, 1, 0, 0, 1, 1, 1, 0, 0, 1,\n",
       "       0, 1, 1, 0, 0, 0, 0, 0, 0, 0, 0, 1, 0, 0, 0, 1, 1, 1, 0, 0, 0, 0,\n",
       "       1, 1, 1, 0, 0, 0, 1, 1, 0, 1, 0, 1, 0, 0, 0, 0, 0, 0, 0, 0, 0, 0,\n",
       "       1, 0, 0, 0, 0, 0, 1, 0, 0, 0, 0, 0, 0, 0, 0, 0, 0, 1, 0, 1, 0, 0,\n",
       "       0, 0, 0, 0, 1, 0, 1, 0, 0, 0, 1, 0, 1, 1, 0, 0, 0, 0, 1, 1, 0, 1,\n",
       "       0, 0, 0, 0, 0, 1, 0, 1, 1, 0, 0, 0, 0, 0, 0, 0, 1, 0, 0, 0, 0, 1,\n",
       "       1, 0, 1, 0, 0, 0, 1, 0, 0, 0, 0, 1, 0, 0, 1, 0, 1, 1, 0, 0, 0, 1,\n",
       "       1, 0, 1, 1, 1, 1, 1, 0, 0, 1, 0, 0, 0, 0, 0, 0, 1, 1, 0, 1, 0, 1,\n",
       "       1, 0, 0, 0, 0, 1, 0, 1, 0, 0, 0, 1, 0, 1, 0, 0, 0, 1, 0, 0, 1, 0,\n",
       "       0, 1, 0, 0, 0, 1, 0, 0, 0, 0, 1, 0, 0, 0, 0, 0, 0, 0, 1, 1, 1, 1,\n",
       "       1, 0, 1, 0, 0, 1, 0, 1, 1, 0, 0, 0, 1, 1, 0, 1, 1, 0, 0, 1, 1, 0,\n",
       "       1, 0, 0, 1, 0, 1, 1, 0])"
      ]
     },
     "execution_count": 27,
     "metadata": {},
     "output_type": "execute_result"
    }
   ],
   "source": [
    "#Predict values in known column\n",
    "\n",
    "lsvc.predict(X_train)"
   ]
  },
  {
   "cell_type": "code",
   "execution_count": 30,
   "id": "7db2bedb-955a-43e6-afda-b63f940ae3d1",
   "metadata": {},
   "outputs": [
    {
     "data": {
      "text/plain": [
       "array([[363,  85],\n",
       "       [ 61, 203]])"
      ]
     },
     "execution_count": 30,
     "metadata": {},
     "output_type": "execute_result"
    }
   ],
   "source": [
    "#Compare predicted values to known values\n",
    "\n",
    "lscvcm = confusion_matrix(lsvc.predict(X_train),Y_train)\n",
    "lscvcm"
   ]
  },
  {
   "cell_type": "code",
   "execution_count": 29,
   "id": "be24fa9e-f81e-4086-bfc0-aff0d8beb433",
   "metadata": {},
   "outputs": [
    {
     "data": {
      "text/plain": [
       "array([0, 0, 0, 0, 1, 0, 1, 0, 1, 0, 0, 1, 0, 1, 1, 0, 0, 1, 0, 0, 0, 1,\n",
       "       1, 0, 1, 0, 0, 0, 0, 1, 0, 0, 1, 0, 0, 0, 1, 1, 0, 0, 1, 0, 1, 0,\n",
       "       1, 1, 0, 0, 0, 1, 0, 0, 0, 1, 0, 1, 0, 1, 1, 1, 0, 1, 1, 1, 0, 1,\n",
       "       0, 1, 0, 0, 0, 1, 1, 0, 1, 1, 1, 0, 1, 0, 1, 0, 1, 0, 0, 1, 0, 0,\n",
       "       0, 0, 1, 1, 1, 0, 1, 0, 1, 1, 1, 0, 1, 0, 0, 0, 0, 0, 0, 0, 0, 0,\n",
       "       1, 0, 1, 1, 0, 0, 0, 0, 0, 0, 1, 1, 0, 0, 1, 1, 0, 1, 0, 1, 0, 1,\n",
       "       0, 0, 1, 0, 0, 0, 1, 1, 0, 1, 1, 0, 0, 1, 1, 0, 1, 0, 0, 0, 0, 0,\n",
       "       0, 0, 1, 1, 0, 0, 0, 1, 0, 1, 0, 1, 0, 0, 0, 1, 0, 0, 0, 1, 1, 0,\n",
       "       1, 0, 1, 0, 0, 0, 0, 1, 0, 0, 0, 0, 0, 1, 1, 1, 1, 0, 0, 1, 0, 1,\n",
       "       1, 0, 0, 0, 0, 0, 1, 0, 0, 0, 1, 1, 0, 0, 0, 1, 1, 0, 0, 0, 0, 1,\n",
       "       0, 1, 1, 0, 0, 1, 0, 0, 0, 1, 0, 0, 0, 0, 0, 1, 0, 0, 0, 0, 0, 0,\n",
       "       1, 1, 1, 0, 0, 0, 0, 0, 0, 0, 0, 1, 0, 1, 0, 0, 0, 1, 0, 1, 0, 1,\n",
       "       0, 0, 0, 0, 0, 0, 1, 0, 1, 0, 1, 1, 0, 0, 0, 1, 0, 1, 1, 0, 1, 1,\n",
       "       0, 1, 1, 1, 0, 0, 1, 0, 0, 1, 1, 1, 0, 0, 0, 0, 1, 1, 0, 0, 0, 0,\n",
       "       0, 1, 0, 0, 0, 1, 0, 1, 0, 0, 1, 0, 1, 1, 0, 0, 0, 0, 1, 1, 1, 1,\n",
       "       0])"
      ]
     },
     "execution_count": 29,
     "metadata": {},
     "output_type": "execute_result"
    }
   ],
   "source": [
    "lsvc.predict(X_test)"
   ]
  },
  {
   "cell_type": "code",
   "execution_count": 31,
   "id": "bce64713-3e65-4900-90b1-8d1003755ac7",
   "metadata": {},
   "outputs": [
    {
     "name": "stdout",
     "output_type": "stream",
     "text": [
      "[0 1]\n"
     ]
    }
   ],
   "source": [
    "lsvc_survival_prediction = lsvc.predict(jackandrose)\n",
    "print (lsvc_survival_prediction)"
   ]
  },
  {
   "cell_type": "markdown",
   "id": "63213c03-0eec-4115-868b-dbe25301a5c3",
   "metadata": {},
   "source": [
    "# Decision Tree"
   ]
  },
  {
   "cell_type": "code",
   "execution_count": 32,
   "id": "ddcecfcf-661c-4046-b8b4-53c7a7cdf3ac",
   "metadata": {},
   "outputs": [
    {
     "data": {
      "text/plain": [
       "0.9845505617977528"
      ]
     },
     "execution_count": 32,
     "metadata": {},
     "output_type": "execute_result"
    }
   ],
   "source": [
    "# Alias Method \n",
    "dt = DecisionTreeClassifier() \n",
    "\n",
    "# Fit / Train the model on your training data\n",
    "dt.fit(X_train, Y_train) \n",
    "\n",
    "# Evaluate the model\n",
    "dt.score(X_train, Y_train)"
   ]
  },
  {
   "cell_type": "code",
   "execution_count": 33,
   "id": "e349c5ab-6c51-44d1-be90-f12997473d8f",
   "metadata": {},
   "outputs": [
    {
     "data": {
      "text/plain": [
       "98.46"
      ]
     },
     "execution_count": 33,
     "metadata": {},
     "output_type": "execute_result"
    }
   ],
   "source": [
    "dt_score = round(dt.score(X_train, Y_train) * 100, 2)\n",
    "dt_score"
   ]
  },
  {
   "cell_type": "code",
   "execution_count": 34,
   "id": "4308a124-b88c-4794-a0f1-23dc5ea362f6",
   "metadata": {},
   "outputs": [
    {
     "data": {
      "text/plain": [
       "array([0, 0, 1, 1, 0, 0, 0, 0, 1, 0, 0, 1, 1, 1, 1, 0, 1, 1, 0, 1, 1, 0,\n",
       "       1, 0, 1, 1, 1, 0, 0, 1, 1, 0, 0, 0, 0, 0, 1, 1, 0, 0, 1, 1, 1, 0,\n",
       "       1, 1, 0, 0, 0, 1, 0, 0, 0, 1, 0, 1, 0, 0, 1, 0, 0, 0, 0, 1, 0, 1,\n",
       "       0, 0, 1, 0, 1, 1, 1, 1, 1, 1, 1, 0, 1, 0, 1, 0, 1, 0, 0, 1, 0, 1,\n",
       "       0, 0, 1, 1, 1, 0, 1, 0, 1, 1, 1, 0, 0, 0, 0, 0, 1, 0, 0, 0, 0, 0,\n",
       "       0, 0, 0, 0, 0, 0, 1, 1, 0, 0, 1, 1, 0, 0, 1, 0, 1, 1, 1, 1, 0, 0,\n",
       "       1, 0, 0, 0, 0, 0, 1, 1, 1, 1, 1, 0, 0, 1, 1, 0, 1, 0, 0, 0, 1, 0,\n",
       "       1, 0, 1, 0, 0, 1, 0, 1, 0, 1, 0, 1, 0, 1, 0, 1, 0, 0, 0, 1, 1, 0,\n",
       "       1, 1, 1, 0, 0, 0, 0, 1, 0, 1, 0, 0, 1, 1, 1, 1, 1, 1, 0, 1, 0, 1,\n",
       "       1, 0, 0, 0, 0, 0, 1, 0, 0, 0, 1, 1, 0, 0, 0, 1, 1, 0, 0, 0, 0, 0,\n",
       "       1, 0, 1, 0, 0, 0, 0, 0, 0, 1, 0, 0, 0, 0, 0, 1, 0, 1, 0, 0, 0, 1,\n",
       "       0, 1, 0, 0, 0, 0, 0, 0, 0, 0, 1, 1, 0, 1, 0, 0, 0, 1, 0, 0, 0, 1,\n",
       "       0, 0, 0, 0, 0, 1, 1, 0, 0, 0, 1, 1, 0, 0, 0, 1, 1, 1, 1, 0, 1, 1,\n",
       "       1, 1, 0, 1, 0, 0, 1, 0, 0, 1, 1, 0, 0, 0, 1, 1, 0, 1, 0, 0, 1, 0,\n",
       "       0, 1, 1, 0, 0, 1, 0, 1, 0, 0, 1, 0, 1, 0, 0, 0, 0, 0, 1, 1, 0, 1,\n",
       "       0])"
      ]
     },
     "execution_count": 34,
     "metadata": {},
     "output_type": "execute_result"
    }
   ],
   "source": [
    "# Predict values in known column\n",
    "dt.predict(X_test)"
   ]
  },
  {
   "cell_type": "code",
   "execution_count": 35,
   "id": "bda01c81-39b3-406b-ae92-d2c6f35dc8bc",
   "metadata": {},
   "outputs": [
    {
     "data": {
      "text/plain": [
       "array([[424,  11],\n",
       "       [  0, 277]])"
      ]
     },
     "execution_count": 35,
     "metadata": {},
     "output_type": "execute_result"
    }
   ],
   "source": [
    "# Compare predicted values to known values\n",
    "dtcm = confusion_matrix(dt.predict(X_train),Y_train)\n",
    "dtcm"
   ]
  },
  {
   "cell_type": "code",
   "execution_count": 36,
   "id": "a25d80ce-58b7-4436-b4af-482109d914dd",
   "metadata": {},
   "outputs": [
    {
     "name": "stdout",
     "output_type": "stream",
     "text": [
      "[1 1]\n"
     ]
    }
   ],
   "source": [
    "survival_prediction = dt.predict(jackandrose)\n",
    "print (survival_prediction)"
   ]
  },
  {
   "cell_type": "markdown",
   "id": "2b143d12-b3bd-4b9f-8d0a-1f3ecd998e06",
   "metadata": {},
   "source": [
    "# **Random Forest**"
   ]
  },
  {
   "cell_type": "code",
   "execution_count": 43,
   "id": "58ff6e71-9cba-4d2f-91a9-ca07d58a4450",
   "metadata": {},
   "outputs": [
    {
     "data": {
      "text/plain": [
       "0.9845505617977528"
      ]
     },
     "execution_count": 43,
     "metadata": {},
     "output_type": "execute_result"
    }
   ],
   "source": [
    "# Alias Method and Select Number of Max Iterations\n",
    "rf = RandomForestClassifier(n_estimators=50)\n",
    "\n",
    "# Fit / Train the model on your training data\n",
    "rf.fit(X_train, Y_train)\n",
    "\n",
    "# Evaluate the model\n",
    "rf_score = rf.score(X_train, Y_train)\n",
    "rf_score"
   ]
  },
  {
   "cell_type": "code",
   "execution_count": 44,
   "id": "6f306cb4-fd93-4d72-ba10-081cfbf66d43",
   "metadata": {},
   "outputs": [
    {
     "data": {
      "text/plain": [
       "98.46"
      ]
     },
     "execution_count": 44,
     "metadata": {},
     "output_type": "execute_result"
    }
   ],
   "source": [
    "rf_score = round(rf.score(X_train, Y_train) * 100, 2)\n",
    "rf_score"
   ]
  },
  {
   "cell_type": "code",
   "execution_count": 45,
   "id": "79caa795-24ae-4ad1-877c-5a5c858f02eb",
   "metadata": {},
   "outputs": [
    {
     "data": {
      "text/plain": [
       "array([0, 0, 0, 1, 1, 0, 0, 0, 1, 0, 0, 1, 0, 1, 1, 0, 1, 1, 0, 0, 1, 1,\n",
       "       1, 0, 1, 1, 0, 0, 0, 1, 1, 0, 0, 0, 0, 0, 1, 1, 0, 0, 1, 1, 0, 0,\n",
       "       1, 1, 0, 0, 0, 1, 0, 0, 0, 1, 1, 1, 0, 0, 1, 1, 0, 0, 0, 1, 0, 1,\n",
       "       0, 1, 1, 0, 1, 1, 1, 1, 0, 1, 1, 0, 1, 0, 1, 0, 1, 0, 0, 1, 0, 0,\n",
       "       0, 0, 1, 1, 1, 0, 1, 1, 1, 1, 1, 0, 0, 0, 1, 0, 1, 0, 0, 0, 0, 0,\n",
       "       0, 0, 0, 1, 0, 0, 1, 0, 0, 0, 1, 1, 0, 0, 1, 0, 1, 0, 1, 1, 0, 0,\n",
       "       1, 0, 0, 0, 0, 0, 1, 1, 0, 1, 1, 0, 0, 1, 1, 0, 1, 0, 0, 0, 0, 0,\n",
       "       1, 0, 1, 0, 0, 1, 0, 1, 0, 0, 0, 1, 0, 0, 0, 1, 0, 0, 0, 1, 1, 0,\n",
       "       1, 1, 1, 0, 0, 0, 0, 1, 0, 1, 0, 0, 1, 1, 1, 1, 1, 0, 0, 1, 0, 1,\n",
       "       1, 0, 0, 0, 0, 0, 1, 0, 0, 0, 1, 1, 0, 0, 1, 1, 1, 0, 0, 0, 0, 0,\n",
       "       1, 0, 0, 0, 0, 0, 0, 0, 0, 1, 0, 0, 0, 0, 0, 1, 0, 1, 0, 0, 0, 1,\n",
       "       0, 1, 1, 0, 0, 0, 0, 0, 0, 0, 1, 1, 0, 1, 0, 0, 0, 1, 0, 1, 0, 1,\n",
       "       1, 0, 0, 0, 0, 1, 1, 0, 0, 0, 1, 1, 0, 0, 0, 1, 0, 1, 0, 0, 1, 1,\n",
       "       1, 1, 0, 1, 0, 0, 1, 0, 0, 1, 1, 0, 0, 0, 0, 0, 1, 1, 0, 0, 0, 1,\n",
       "       0, 1, 0, 0, 0, 1, 0, 1, 0, 0, 1, 0, 1, 0, 0, 0, 0, 0, 1, 1, 0, 1,\n",
       "       0])"
      ]
     },
     "execution_count": 45,
     "metadata": {},
     "output_type": "execute_result"
    }
   ],
   "source": [
    "# Predict values in known column\n",
    "rf.predict(X_test)"
   ]
  },
  {
   "cell_type": "code",
   "execution_count": 46,
   "id": "b3533486-8a36-439c-857b-d462241d3b15",
   "metadata": {},
   "outputs": [
    {
     "data": {
      "text/plain": [
       "array([[420,   7],\n",
       "       [  4, 281]])"
      ]
     },
     "execution_count": 46,
     "metadata": {},
     "output_type": "execute_result"
    }
   ],
   "source": [
    "# Compare predicted values to known values\n",
    "rfcm = confusion_matrix(rf.predict(X_train),Y_train)\n",
    "rfcm"
   ]
  },
  {
   "cell_type": "code",
   "execution_count": 47,
   "id": "91676b16-3d73-4efd-8214-52792627aab2",
   "metadata": {},
   "outputs": [
    {
     "name": "stdout",
     "output_type": "stream",
     "text": [
      "[1 1]\n"
     ]
    }
   ],
   "source": [
    "survival_prediction = rf.predict(jackandrose)\n",
    "print (survival_prediction)"
   ]
  },
  {
   "cell_type": "markdown",
   "id": "bd880f78-a8bd-4afc-ac0a-4f387f3d0742",
   "metadata": {},
   "source": [
    "# Comparing Models"
   ]
  },
  {
   "cell_type": "code",
   "execution_count": 42,
   "id": "8bd81b77-611d-4d23-b081-988992de0950",
   "metadata": {},
   "outputs": [
    {
     "data": {
      "text/html": [
       "<div>\n",
       "<style scoped>\n",
       "    .dataframe tbody tr th:only-of-type {\n",
       "        vertical-align: middle;\n",
       "    }\n",
       "\n",
       "    .dataframe tbody tr th {\n",
       "        vertical-align: top;\n",
       "    }\n",
       "\n",
       "    .dataframe thead th {\n",
       "        text-align: right;\n",
       "    }\n",
       "</style>\n",
       "<table border=\"1\" class=\"dataframe\">\n",
       "  <thead>\n",
       "    <tr style=\"text-align: right;\">\n",
       "      <th></th>\n",
       "      <th>Model</th>\n",
       "    </tr>\n",
       "    <tr>\n",
       "      <th>Score</th>\n",
       "      <th></th>\n",
       "    </tr>\n",
       "  </thead>\n",
       "  <tbody>\n",
       "    <tr>\n",
       "      <th>98.46</th>\n",
       "      <td>Decision Tree</td>\n",
       "    </tr>\n",
       "    <tr>\n",
       "      <th>98.46</th>\n",
       "      <td>Random Forest</td>\n",
       "    </tr>\n",
       "    <tr>\n",
       "      <th>79.49</th>\n",
       "      <td>Logistic Regression</td>\n",
       "    </tr>\n",
       "    <tr>\n",
       "      <th>79.49</th>\n",
       "      <td>Support Vector Machines</td>\n",
       "    </tr>\n",
       "  </tbody>\n",
       "</table>\n",
       "</div>"
      ],
      "text/plain": [
       "                         Model\n",
       "Score                         \n",
       "98.46            Decision Tree\n",
       "98.46            Random Forest\n",
       "79.49      Logistic Regression\n",
       "79.49  Support Vector Machines"
      ]
     },
     "execution_count": 42,
     "metadata": {},
     "output_type": "execute_result"
    }
   ],
   "source": [
    "results = pd.DataFrame({\n",
    "    'Model': ['Logistic Regression', 'Support Vector Machines',\n",
    "              'Decision Tree','Random Forest'], \n",
    "              \n",
    "    'Score': [lr_score, lsvc_score, dt_score, \n",
    "              rf_score]})\n",
    "result_df = results.sort_values(by='Score', ascending=False)\n",
    "result_df = result_df.set_index('Score')\n",
    "result_df"
   ]
  },
  {
   "cell_type": "code",
   "execution_count": null,
   "id": "2ba8af45-bd94-431d-ac28-487f16f2e925",
   "metadata": {},
   "outputs": [],
   "source": [
    "lrcm"
   ]
  },
  {
   "cell_type": "code",
   "execution_count": null,
   "id": "8961621b-722f-4b0c-816d-67003ae1c638",
   "metadata": {},
   "outputs": [],
   "source": [
    "lscvcm"
   ]
  },
  {
   "cell_type": "code",
   "execution_count": null,
   "id": "0bfb93cb-fbd8-4f64-bf18-db8205b38b42",
   "metadata": {},
   "outputs": [],
   "source": [
    "dtcm"
   ]
  },
  {
   "cell_type": "code",
   "execution_count": null,
   "id": "b7fcf20c-a766-494c-b3f9-e04dba937070",
   "metadata": {},
   "outputs": [],
   "source": [
    "rfcm"
   ]
  }
 ],
 "metadata": {
  "kernelspec": {
   "display_name": "Python 3 (ipykernel)",
   "language": "python",
   "name": "python3"
  },
  "language_info": {
   "codemirror_mode": {
    "name": "ipython",
    "version": 3
   },
   "file_extension": ".py",
   "mimetype": "text/x-python",
   "name": "python",
   "nbconvert_exporter": "python",
   "pygments_lexer": "ipython3",
   "version": "3.9.7"
  }
 },
 "nbformat": 4,
 "nbformat_minor": 5
}
